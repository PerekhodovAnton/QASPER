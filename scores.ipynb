{
 "cells": [
  {
   "cell_type": "code",
   "execution_count": 1,
   "metadata": {},
   "outputs": [
    {
     "name": "stderr",
     "output_type": "stream",
     "text": [
      "/Users/anper/Documents/Qasper/localtranslation/.venv/lib/python3.9/site-packages/urllib3/__init__.py:35: NotOpenSSLWarning: urllib3 v2 only supports OpenSSL 1.1.1+, currently the 'ssl' module is compiled with 'LibreSSL 2.8.3'. See: https://github.com/urllib3/urllib3/issues/3020\n",
      "  warnings.warn(\n",
      "/Users/anper/Documents/Qasper/localtranslation/.venv/lib/python3.9/site-packages/tqdm/auto.py:21: TqdmWarning: IProgress not found. Please update jupyter and ipywidgets. See https://ipywidgets.readthedocs.io/en/stable/user_install.html\n",
      "  from .autonotebook import tqdm as notebook_tqdm\n"
     ]
    }
   ],
   "source": [
    "import os\n",
    "import json\n",
    "import numpy as np\n",
    "import random\n",
    "from tqdm.notebook import tqdm\n",
    "from datasets import load_from_disk\n",
    "import gc\n",
    "from collections import Counter\n",
    "import re\n",
    "import string\n",
    "from rouge import Rouge"
   ]
  },
  {
   "cell_type": "markdown",
   "metadata": {},
   "source": [
    "# SUM RESULTS (ROUGE)"
   ]
  },
  {
   "cell_type": "code",
   "execution_count": 38,
   "metadata": {},
   "outputs": [],
   "source": [
    "def rouge(path):\n",
    "    rouge = Rouge()\n",
    "    pred = []\n",
    "    true = []\n",
    "    with open(path, \"r\", encoding=\"utf-8\") as f:\n",
    "        for line in f:\n",
    "            data = json.loads(line)\n",
    "            pred.append(data['pred_clust'])\n",
    "            true.append(data['answers'])\n",
    "\n",
    "    res = rouge.get_scores(pred, true)\n",
    "    r1 = np.mean([r['rouge-1']['f'] for r in res])\n",
    "    r2 = np.mean([r['rouge-2']['f'] for r in res])\n",
    "    rl = np.mean([r['rouge-l']['f'] for r in res])\n",
    "    mean_r = np.mean([r1,r2,rl])\n",
    "\n",
    "    return f'mean rouge-1 : {r1} \\n mean rouge-2 : {r2} \\n mean rouge-l : {rl} \\n mean rouge : {mean_r}'\n"
   ]
  },
  {
   "cell_type": "markdown",
   "metadata": {},
   "source": [
    "# BEFORE"
   ]
  },
  {
   "cell_type": "code",
   "execution_count": 39,
   "metadata": {},
   "outputs": [
    {
     "data": {
      "text/plain": [
       "'mean rouge-1 : 0.22230406054912186 \\n mean rouge-2 : 0.06967721115827072 \\n mean rouge-l : 0.20778082247617455 \\n mean rouge : 0.1665873647278557'"
      ]
     },
     "execution_count": 39,
     "metadata": {},
     "output_type": "execute_result"
    }
   ],
   "source": [
    "rouge(\"BEFORE/QasperSumInstructLONGBENCH.jsonl\")\n",
    "'mean rouge-1 : 0.22230406054912186 \\n mean rouge-2 : 0.06967721115827072 \\n mean rouge-l : 0.20778082247617455 \\n mean rouge : 0.1665873647278557'\n"
   ]
  },
  {
   "cell_type": "markdown",
   "metadata": {},
   "source": [
    "# AFTER"
   ]
  },
  {
   "cell_type": "code",
   "execution_count": 40,
   "metadata": {},
   "outputs": [
    {
     "data": {
      "text/plain": [
       "'mean rouge-1 : 0.20684256953651334 \\n mean rouge-2 : 0.06720703041953023 \\n mean rouge-l : 0.19641296510546705 \\n mean rouge : 0.15682085502050355'"
      ]
     },
     "execution_count": 40,
     "metadata": {},
     "output_type": "execute_result"
    }
   ],
   "source": [
    "rouge(\"AFTER/QasperSumInstructLONGBENCH.jsonl\")\n",
    "'mean rouge-1 : 0.20684256953651334 \\n mean rouge-2 : 0.06720703041953023 \\n mean rouge-l : 0.19641296510546705 \\n mean rouge : 0.15682085502050355'\n"
   ]
  },
  {
   "cell_type": "markdown",
   "metadata": {},
   "source": [
    "# QA RESULTS (qa_f1_score)"
   ]
  },
  {
   "cell_type": "code",
   "execution_count": 45,
   "metadata": {},
   "outputs": [],
   "source": [
    "def normalize_answer(s):\n",
    "    \"\"\"Lower text and remove punctuation, articles and extra whitespace.\"\"\"\n",
    "\n",
    "    def remove_articles(text):\n",
    "        return re.sub(r\"\\b(a|an|the)\\b\", \" \", text)\n",
    "\n",
    "    def white_space_fix(text):\n",
    "        return \" \".join(text.split())\n",
    "\n",
    "    def remove_punc(text):\n",
    "        exclude = set(string.punctuation)\n",
    "        return \"\".join(ch for ch in text if ch not in exclude)\n",
    "\n",
    "    def lower(text):\n",
    "        return text.lower()\n",
    "\n",
    "    return white_space_fix(remove_articles(remove_punc(lower(s))))\n",
    "\n",
    "def f1_score(prediction, ground_truth, **kwargs):\n",
    "    common = Counter(prediction) & Counter(ground_truth)\n",
    "    num_same = sum(common.values())\n",
    "    if num_same == 0:\n",
    "        return 0\n",
    "    precision = 1.0 * num_same / len(prediction)\n",
    "    recall = 1.0 * num_same / len(ground_truth)\n",
    "    f1 = (2 * precision * recall) / (precision + recall)\n",
    "    return f1\n",
    "\n",
    "def qa_f1_score(prediction, ground_truth):\n",
    "    normalized_prediction = normalize_answer(prediction)\n",
    "    normalized_ground_truth = normalize_answer(ground_truth)\n",
    "\n",
    "    prediction_tokens = normalized_prediction.split()\n",
    "    ground_truth_tokens = normalized_ground_truth.split()\n",
    "    return f1_score(prediction_tokens, ground_truth_tokens)\n",
    "\n",
    "def qa(path):\n",
    "    res = []\n",
    "    with open(path, \"r\", encoding=\"utf-8\") as f:\n",
    "        for line in f:\n",
    "            data = json.loads(line)\n",
    "            res.append(qa_f1_score(data['pred_clust'], data['answers']))\n",
    "    \n",
    "    return f'mean qa_f1_score: {np.mean(res)}'\n"
   ]
  },
  {
   "cell_type": "markdown",
   "metadata": {},
   "source": [
    "# BEFORE"
   ]
  },
  {
   "cell_type": "code",
   "execution_count": 46,
   "metadata": {},
   "outputs": [
    {
     "data": {
      "text/plain": [
       "'mean qa_f1_score: 0.11678618735369924'"
      ]
     },
     "execution_count": 46,
     "metadata": {},
     "output_type": "execute_result"
    }
   ],
   "source": [
    "qa(\"BEFORE/QasperQAInstructLONGBENCH.jsonl\")\n",
    "'mean qa_f1_score: 0.11678618735369924'\n"
   ]
  },
  {
   "cell_type": "code",
   "execution_count": 47,
   "metadata": {},
   "outputs": [
    {
     "data": {
      "text/plain": [
       "'mean qa_f1_score: 0.05164489309181426'"
      ]
     },
     "execution_count": 47,
     "metadata": {},
     "output_type": "execute_result"
    }
   ],
   "source": [
    "qa(\"AFTER/QasperQAInstructLONGBENCH.jsonl\")\n",
    "'mean qa_f1_score: 0.05164489309181426'"
   ]
  },
  {
   "cell_type": "code",
   "execution_count": null,
   "metadata": {},
   "outputs": [],
   "source": []
  }
 ],
 "metadata": {
  "kernelspec": {
   "display_name": ".venv",
   "language": "python",
   "name": "python3"
  },
  "language_info": {
   "codemirror_mode": {
    "name": "ipython",
    "version": 3
   },
   "file_extension": ".py",
   "mimetype": "text/x-python",
   "name": "python",
   "nbconvert_exporter": "python",
   "pygments_lexer": "ipython3",
   "version": "3.9.6"
  }
 },
 "nbformat": 4,
 "nbformat_minor": 2
}
