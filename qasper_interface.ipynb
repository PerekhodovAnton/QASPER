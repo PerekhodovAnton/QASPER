{
 "cells": [
  {
   "cell_type": "code",
   "execution_count": 1,
   "id": "27953a4d",
   "metadata": {
    "scrolled": false
   },
   "outputs": [
    {
     "name": "stdout",
     "output_type": "stream",
     "text": [
      "* Running on local URL:  http://127.0.0.1:7860\n",
      "\n",
      "To create a public link, set `share=True` in `launch()`.\n"
     ]
    },
    {
     "data": {
      "text/html": [
       "<div><iframe src=\"http://127.0.0.1:7860/\" width=\"100%\" height=\"500\" allow=\"autoplay; camera; microphone; clipboard-read; clipboard-write;\" frameborder=\"0\" allowfullscreen></iframe></div>"
      ],
      "text/plain": [
       "<IPython.core.display.HTML object>"
      ]
     },
     "metadata": {},
     "output_type": "display_data"
    },
    {
     "data": {
      "text/plain": []
     },
     "execution_count": 1,
     "metadata": {},
     "output_type": "execute_result"
    }
   ],
   "source": [
    "import gradio as gr\n",
    "\n",
    "def ruQasper_answer(pdf_file, question):\n",
    "    return \"Ответ на ваш вопрос появится здесь.\"\n",
    "\n",
    "css = \"\"\"\n",
    "/* Отключаем кнопку для перехода в полноэкранный режим */\n",
    "button[aria-label=\"View in full screen\"] {\n",
    "    display: none !important;\n",
    "}\n",
    "\n",
    "/* Если есть рамки или тени вокруг изображения, убираем их */\n",
    "#ghost_image, #ghost_image * {\n",
    "    border: none !important;\n",
    "    box-shadow: none !important;\n",
    "    cursor: default !important;\n",
    "}\n",
    "\"\"\"\n",
    "\n",
    "with gr.Blocks(title=\"ruQasper\", css=css) as demo:\n",
    "    gr.Image(\n",
    "        value=\"ghost.png\",\n",
    "        elem_id=\"ghost_image\",\n",
    "        show_label=False,\n",
    "        width=200,\n",
    "        show_download_button=False,\n",
    "        interactive=False\n",
    "    )\n",
    "    \n",
    "    gr.Markdown(\n",
    "        \"\"\"\n",
    "    <h1 style=\"text-align:center;\">Мы — <strong>ruQasper</strong>!</h1>\n",
    "    <p style=\"text-align:center; font-size: 20px;\">\n",
    "        Поможем тебе разобраться в научных статьях по теме NLP<br>\n",
    "        Отправь в чат интересующую тебя статью и мы ответим на любой твой вопрос\n",
    "    </p>\n",
    "        \"\"\"\n",
    "    )\n",
    "    \n",
    "    gr.Markdown(\n",
    "        \"\"\"\n",
    "        <h3>Задай вопрос по научной статье</h3>\n",
    "        \"\"\",\n",
    "        elem_id=\"chat_section_title\"\n",
    "    )\n",
    "    with gr.Row():\n",
    "        with gr.Column():\n",
    "            pdf_file = gr.File(label=\"Прикрепи документ (PDF)\")\n",
    "            question = gr.Textbox(label=\"Твой вопрос\")\n",
    "            submit_button = gr.Button(\"Отправить\")\n",
    "        with gr.Column():\n",
    "            answer_output = gr.Textbox(\n",
    "                label=\"Ответ ruQasper\",\n",
    "                lines=6,\n",
    "                placeholder=\"Здесь появится ответ на твой вопрос\"\n",
    "            )\n",
    "\n",
    "    submit_button.click(fn=ruQasper_answer, inputs=[pdf_file, question], outputs=answer_output)\n",
    "    \n",
    "demo.launch(share=False)"
   ]
  }
 ],
 "metadata": {
  "kernelspec": {
   "display_name": "Python 3 (ipykernel)",
   "language": "python",
   "name": "python3"
  },
  "language_info": {
   "codemirror_mode": {
    "name": "ipython",
    "version": 3
   },
   "file_extension": ".py",
   "mimetype": "text/x-python",
   "name": "python",
   "nbconvert_exporter": "python",
   "pygments_lexer": "ipython3",
   "version": "3.11.4"
  }
 },
 "nbformat": 4,
 "nbformat_minor": 5
}
