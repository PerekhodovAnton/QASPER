{
  "cells": [
    {
      "cell_type": "code",
      "execution_count": null,
      "metadata": {},
      "outputs": [],
      "source": [
        "!pip install pdfminer.six"
      ]
    },
    {
      "cell_type": "code",
      "execution_count": null,
      "metadata": {},
      "outputs": [],
      "source": [
        "!pip install transliterate"
      ]
    },
    {
      "cell_type": "code",
      "execution_count": null,
      "metadata": {},
      "outputs": [],
      "source": [
        "!pip install autocorrect"
      ]
    },
    {
      "cell_type": "code",
      "execution_count": null,
      "metadata": {},
      "outputs": [],
      "source": [
        "# Imports\n",
        "import pandas as pd\n",
        "import docx2txt\n",
        "import io\n",
        "import re\n",
        "import os\n",
        "\n",
        "from transliterate import translit\n",
        "from autocorrect import Speller\n",
        "\n",
        "from pdfminer.pdfinterp import PDFResourceManager, PDFPageInterpreter\n",
        "from pdfminer.converter import TextConverter\n",
        "from pdfminer.layout import LAParams\n",
        "from pdfminer.pdfpage import PDFPage"
      ]
    },
    {
      "cell_type": "code",
      "execution_count": 11,
      "metadata": {
        "id": "8PF7tVde1SDt",
        "scrolled": true
      },
      "outputs": [],
      "source": [
        "# installations: pdfminer.six, transliterate, autocorrect\n",
        "# based on \"to_pdf(1).ipynb\" by Terekhina Maria and Maria Fedorova\n",
        "\n",
        "def remove_references(text):\n",
        "    text = re.sub('(Литература|Список( использованной)? литературы|Библиография|Библиографический список|БИБЛИОГРАФИЧЕСКИЙ СПИСОК|СПИСОК ЛИТЕРАТУРЫ)(\\.)?.*', '', text, flags=re.S)\n",
        "    return text\n",
        "\n",
        "def get_title(text):\n",
        "    text_cleared = re.sub('-',' ',text)\n",
        "    text_cleared = re.sub('\\.pdf|\\.doc|\\.docx', '', text_cleared)\n",
        "    return translit(text_cleared, 'ru')\n",
        "\n",
        "def get_abstract(text):\n",
        "    abstract = re.sub('(Ключевые\\s+слова|Введение)(\\.)?.*', '', text, flags=re.S)\n",
        "    return abstract\n",
        "    \n",
        "def get_full_text(text, abstract):\n",
        "    full_text = re.sub(abstract,'', text)\n",
        "    full_text = remove_references(full_text)\n",
        "    return full_text\n",
        "\n",
        "def remove_misc_symbols(text):\n",
        "\n",
        "    text = re.sub('\\f.+\\n', '\\n', text)\n",
        "    text = re.sub('-\\n','',text)\n",
        "    text = re.sub('\\n+', '\\n', text)\n",
        "    text = re.sub('\\n+( )*[0-9]+( )*\\n+', '', text)\n",
        "    text = remove_references(text)\n",
        "\n",
        "    return text\n",
        "\n",
        "\n",
        "def convert_to_df_entry(path):\n",
        "\n",
        "    retstr = io.StringIO()\n",
        "    device = TextConverter(PDFResourceManager(), retstr, codec='utf-8', laparams=LAParams())\n",
        "    fp = open(path, 'rb')\n",
        "    interpreter = PDFPageInterpreter(PDFResourceManager(), device)\n",
        "\n",
        "    for page in PDFPage.get_pages(fp, set(), maxpages=0,password=\"\",caching=True,check_extractable=True):\n",
        "        interpreter.process_page(page)\n",
        "    text = retstr.getvalue()\n",
        "\n",
        "    fp.close()\n",
        "    device.close()\n",
        "    retstr.close()\n",
        "    return remove_misc_symbols(text)\n",
        "\n"
      ]
    },
    {
      "cell_type": "code",
      "execution_count": 12,
      "metadata": {},
      "outputs": [],
      "source": [
        "if __name__ == '__main__':\n",
        "\n",
        "    spell = Speller('ru')\n",
        "    id = 365\n",
        "\n",
        "    total_count = 0\n",
        "    df = pd.DataFrame(columns=['id', 'titles', 'abstracts', 'full_texts', 'question_id',\n",
        "       'unanswerebles', 'questions', 'answers', 'evidences',\n",
        "       'figures_and_tables', 'split'])\n",
        "    \n",
        "    failed_id = 0\n",
        "    df_failed = pd.DataFrame(columns=['title'])\n",
        "    \n",
        "    for i,file in enumerate(os.listdir('C://Users//tohet//NIS_parse//test_pdf')):\n",
        "        text = convert_to_df_entry('C://Users//tohet//NIS_parse//test_pdf//{0}'.format(file))\n",
        "        \n",
        "        title = spell(get_title(file))\n",
        "        abstract = get_abstract(text)\n",
        "        full_text = text.replace(abstract, '')\n",
        "\n",
        "        if full_text == '':\n",
        "            df_failed.loc[failed_id] = [title]\n",
        "            failed_id += 1\n",
        "            continue\n",
        "\n",
        "        df.loc[i] = [id, title, abstract, full_text, 0, None, None, None, None, None, None]\n",
        "        id += 1\n",
        "\n",
        "df.to_csv('df_cl.csv', sep='\\t')\n",
        "df_failed.to_csv('df_failed.csv', sep='\\t')"
      ]
    }
  ],
  "metadata": {
    "colab": {
      "provenance": []
    },
    "kernelspec": {
      "display_name": "Python 3",
      "language": "python",
      "name": "python3"
    },
    "language_info": {
      "codemirror_mode": {
        "name": "ipython",
        "version": 3
      },
      "file_extension": ".py",
      "mimetype": "text/x-python",
      "name": "python",
      "nbconvert_exporter": "python",
      "pygments_lexer": "ipython3",
      "version": "3.11.5"
    },
    "toc": {
      "base_numbering": 1,
      "nav_menu": {},
      "number_sections": true,
      "sideBar": true,
      "skip_h1_title": false,
      "title_cell": "Table of Contents",
      "title_sidebar": "Contents",
      "toc_cell": true,
      "toc_position": {},
      "toc_section_display": true,
      "toc_window_display": false
    }
  },
  "nbformat": 4,
  "nbformat_minor": 0
}
